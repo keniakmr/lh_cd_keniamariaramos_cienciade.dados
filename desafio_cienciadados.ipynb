{
  "nbformat": 4,
  "nbformat_minor": 0,
  "metadata": {
    "colab": {
      "provenance": []
    },
    "kernelspec": {
      "name": "python3",
      "display_name": "Python 3"
    },
    "language_info": {
      "name": "python"
    }
  },
  "cells": [
    {
      "cell_type": "markdown",
      "source": [
        "# <font color=\"#555555\" size=\"9\">**Desafio Ciência de Dados**</font>\n"
      ],
      "metadata": {
        "id": "c2poSVG_iAk8"
      }
    },
    {
      "cell_type": "markdown",
      "source": [
        "## Desafio\n",
        "\n",
        "Você foi alocado em um time da Indicium contratado por um estúdio de Hollywood chamado PProductions, e agora deve fazer uma análise em cima de um banco de dados cinematográfico para orientar qual tipo de filme deve ser o próximo a ser desenvolvido. Lembre-se que há muito dinheiro envolvido, então a análise deve ser muito detalhada e levar em consideração o máximo de fatores possíveis (a introdução de dados externos é permitida - e encorajada)."
      ],
      "metadata": {
        "id": "ARN_FtuxinSN"
      }
    },
    {
      "cell_type": "markdown",
      "source": [
        "Entregas\n",
        "\n",
        "1.\tFaça uma análise exploratória dos dados (EDA), demonstrando as principais características entre as variáveis e apresentando algumas hipóteses relacionadas. Seja criativo!\n",
        "\n",
        "2.\tResponda também às seguintes perguntas:\n",
        "a.\tQual filme você recomendaria para uma pessoa que você não conhece?\n",
        "\n",
        "b.\tQuais são os principais fatores que estão relacionados com alta expectativa de faturamento de um filme?\n",
        "\n",
        "c.\tQuais insights podem ser tirados com a coluna Overview?\n",
        " É possível inferir o gênero do filme a partir dessa coluna?\n",
        "\n",
        "3.\tExplique como você faria a previsão da nota do imdb a partir dos dados. Quais variáveis e/ou suas transformações você utilizou e por quê?\n",
        "Qual tipo de problema estamos resolvendo (regressão, classificação)?\n",
        "Qual modelo melhor se aproxima dos dados e quais seus prós e contras?\n",
        "Qual medida de performance do modelo foi escolhida e por quê?\n",
        "\n",
        "4.\tSupondo um filme com as seguintes características:\n",
        "\n",
        "{'Series_Title': 'The Shawshank Redemption',\n",
        " 'Released_Year': '1994',\n",
        " 'Certificate': 'A',\n",
        " 'Runtime': '142 min',\n",
        " 'Genre': 'Drama',\n",
        " 'Overview': 'Two imprisoned men bond over a number of years, finding solace and eventual redemption through acts of common decency.',\n",
        " 'Meta_score': 80.0,\n",
        " 'Director': 'Frank Darabont',\n",
        " 'Star1': 'Tim Robbins',\n",
        " 'Star2': 'Morgan Freeman',\n",
        " 'Star3': 'Bob Gunton',\n",
        " 'Star4': 'William Sadler',\n",
        " 'No_of_Votes': 2343110,\n",
        " 'Gross': '28,341,469'}\n",
        "\n",
        "\n",
        "Qual seria a nota do IMDB?\n",
        "\n",
        "5.\tSalve o modelo desenvolvido no formato .pkl.\n",
        "\n",
        "6.\tA entrega deve ser feita através de um repositório de código público que contenha:\n",
        "a.\tREADME explicando como instalar e executar o projeto\n",
        "b.\tArquivo de requisitos com todos os pacotes utilizados e suas versões\n",
        "c.\tRelatórios das análises estatísticas e EDA em PDF, Jupyter Notebook ou semelhante conforme passo 1 e 2.\n",
        "d.\tCódigos de modelagem utilizados no passo 3 (pode ser entregue no mesmo Jupyter Notebook).\n",
        "e.\tArquivo .pkl conforme passo 5 acima.\n",
        "Todos os códigos produzidos devem seguir as boas práticas de codificação.\n"
      ],
      "metadata": {
        "id": "ASXgNGlNOtWM"
      }
    },
    {
      "cell_type": "markdown",
      "source": [
        "#**Variáveis:**\n"
      ],
      "metadata": {
        "id": "YjEVVSqhO_ng"
      }
    },
    {
      "cell_type": "markdown",
      "source": [
        "● **Series_Title** – Nome do filme\n",
        "\n",
        "● **Released_Year** - Ano de lançamento\n",
        "\n",
        "● **Certificate** - Classificação etária\n",
        "\n",
        "● **Runtime** – Tempo de duração\n",
        "\n",
        "● **Genre** - Gênero\n",
        "\n",
        "● **IMDB_Rating** - Nota do IMDB\n",
        "\n",
        "● **Overview** - Overview do filme\n",
        "\n",
        "● **Meta_score** - Média ponderada de todas as críticas\n",
        "\n",
        "● **Director** – Diretor\n",
        "\n",
        "● **Star1** - Ator/atriz #1\n",
        "\n",
        "● **Star2** - Ator/atriz #2\n",
        "\n",
        "● **Star3** - Ator/atriz #3\n",
        "\n",
        "● **Star** - Ator/atriz #4\n",
        "\n",
        "● **No_of_Votes** - Número de votos\n",
        "\n",
        "● **Gross** - Faturamento\n"
      ],
      "metadata": {
        "id": "BWXjQMijP8g_"
      }
    },
    {
      "cell_type": "code",
      "source": [
        "# Importação de bibliotecas\n",
        "import pandas as pd\n",
        "import numpy as np\n",
        "import matplotlib.pyplot as plt\n",
        "import scipy.stats as stat\n",
        "import warnings\n",
        "warnings.filterwarnings('ignore')\n",
        "\n",
        "# Leitura dos dados e carregamento\n",
        "!pip install gdown\n",
        "import gdown  # importar a biblioteca gdown para baixar arquivos do Google Drive\n",
        "\n",
        "# url do arquivo no Google Drive\n",
        "url = 'https://drive.google.com/uc?id=1SFaIqpW3pHkTYcke01mzhi23AS9u7s01'\n",
        "output = 'desafio_indicium_imdb.csv'  # nome do arquivo de saída após o download\n",
        "\n",
        "# Baixar o arquivo do google drive\n",
        "gdown.download(url, output, quiet=False)\n",
        "\n",
        "# Faz a leitura do aquivo de dados CSV descartando a primeira coluna para evitar o erro de buscar o titulo\n",
        "# das colunas(na 1º linha) que estão no formato .html e carrega o dataset no dataframe do pandas\n",
        "df_indicium_imdb = pd.read_csv(output, index_col=0)\n",
        "df_modelo  = pd.read_csv(output, index_col=0)\n"
      ],
      "metadata": {
        "colab": {
          "base_uri": "https://localhost:8080/"
        },
        "id": "e70qOLOcbsLQ",
        "outputId": "45798fdf-6260-4013-cdb3-ba8401bb2e00"
      },
      "execution_count": null,
      "outputs": [
        {
          "output_type": "stream",
          "name": "stdout",
          "text": [
            "Requirement already satisfied: gdown in /usr/local/lib/python3.12/dist-packages (5.2.0)\n",
            "Requirement already satisfied: beautifulsoup4 in /usr/local/lib/python3.12/dist-packages (from gdown) (4.13.5)\n",
            "Requirement already satisfied: filelock in /usr/local/lib/python3.12/dist-packages (from gdown) (3.19.1)\n",
            "Requirement already satisfied: requests[socks] in /usr/local/lib/python3.12/dist-packages (from gdown) (2.32.4)\n",
            "Requirement already satisfied: tqdm in /usr/local/lib/python3.12/dist-packages (from gdown) (4.67.1)\n",
            "Requirement already satisfied: soupsieve>1.2 in /usr/local/lib/python3.12/dist-packages (from beautifulsoup4->gdown) (2.8)\n",
            "Requirement already satisfied: typing-extensions>=4.0.0 in /usr/local/lib/python3.12/dist-packages (from beautifulsoup4->gdown) (4.15.0)\n",
            "Requirement already satisfied: charset_normalizer<4,>=2 in /usr/local/lib/python3.12/dist-packages (from requests[socks]->gdown) (3.4.3)\n",
            "Requirement already satisfied: idna<4,>=2.5 in /usr/local/lib/python3.12/dist-packages (from requests[socks]->gdown) (3.10)\n",
            "Requirement already satisfied: urllib3<3,>=1.21.1 in /usr/local/lib/python3.12/dist-packages (from requests[socks]->gdown) (2.5.0)\n",
            "Requirement already satisfied: certifi>=2017.4.17 in /usr/local/lib/python3.12/dist-packages (from requests[socks]->gdown) (2025.8.3)\n",
            "Requirement already satisfied: PySocks!=1.5.7,>=1.5.6 in /usr/local/lib/python3.12/dist-packages (from requests[socks]->gdown) (1.7.1)\n"
          ]
        },
        {
          "output_type": "stream",
          "name": "stderr",
          "text": [
            "Downloading...\n",
            "From: https://drive.google.com/uc?id=1SFaIqpW3pHkTYcke01mzhi23AS9u7s01\n",
            "To: /content/desafio_indicium_imdb.csv\n",
            "100%|██████████| 303k/303k [00:00<00:00, 84.9MB/s]\n"
          ]
        }
      ]
    },
    {
      "cell_type": "markdown",
      "source": [
        "## 1. Exploração inicial\n",
        "\n",
        "Faça uma análise exploratória dos dados (EDA), demonstrando as principais características entre as variáveis e apresentando algumas hipóteses relacionadas. Seja criativo!\n"
      ],
      "metadata": {
        "id": "_A2oRnLnqXlG"
      }
    },
    {
      "cell_type": "code",
      "source": [
        "# A função .shape retorna uma tupla: o número de linhas e o número de colunas\n",
        "print(f\"O dataset tem {df_indicium_imdb.shape[0]} linhas e {df_indicium_imdb.shape[1]} colunas.\")\n",
        "\n",
        "# Verificamos os tipos de dados de cada coluna com o método .dtypes\n",
        "print(\"\\nTipos de dados das colunas:\")\n",
        "print(df_indicium_imdb.dtypes)\n",
        "\n",
        "# A função .isnull().sum() retorna a quantidade de valores ausentes por coluna, o que é essencial para saber se precisamos tratar esses dados\n",
        "print(\"\\nValores ausentes por coluna:\")\n",
        "print(df_indicium_imdb.isnull().sum())\n",
        "\n",
        "# Gráfico com a representação dos valores ausentes por coluna, ordenado do maior para o menor\n",
        "missing_values = df_indicium_imdb.isnull().sum().sort_values(ascending=False)\n",
        "\n",
        "plt.figure(figsize=(10, 6))\n",
        "bars = plt.bar(missing_values.index, missing_values.values, color='gray')\n",
        "plt.title('Quantidade de Valores Nulos por Coluna')\n",
        "plt.xlabel('Colunas')\n",
        "plt.ylabel('Quantidade de Valores Nulos')\n",
        "\n",
        "# Adicionar a quantidade de valores ausentes no topo das barras\n",
        "for bar in bars:\n",
        "    yval = bar.get_height()\n",
        "    plt.text(bar.get_x() + bar.get_width()/2, yval, int(yval), ha='center', va='bottom', color='black')\n",
        "\n",
        "plt.xticks(rotation=90)\n",
        "plt.show()"
      ],
      "metadata": {
        "id": "Z2K_G0yUYfuZ",
        "colab": {
          "base_uri": "https://localhost:8080/",
          "height": 1000
        },
        "collapsed": true,
        "outputId": "0d1ad908-7260-4018-866b-a6c1ad340d5c"
      },
      "execution_count": null,
      "outputs": [
        {
          "output_type": "stream",
          "name": "stdout",
          "text": [
            "O dataset tem 999 linhas e 15 colunas.\n",
            "\n",
            "Tipos de dados das colunas:\n",
            "Series_Title      object\n",
            "Released_Year     object\n",
            "Certificate       object\n",
            "Runtime           object\n",
            "Genre             object\n",
            "IMDB_Rating      float64\n",
            "Overview          object\n",
            "Meta_score       float64\n",
            "Director          object\n",
            "Star1             object\n",
            "Star2             object\n",
            "Star3             object\n",
            "Star4             object\n",
            "No_of_Votes        int64\n",
            "Gross             object\n",
            "dtype: object\n",
            "\n",
            "Valores ausentes por coluna:\n",
            "Series_Title       0\n",
            "Released_Year      0\n",
            "Certificate      101\n",
            "Runtime            0\n",
            "Genre              0\n",
            "IMDB_Rating        0\n",
            "Overview           0\n",
            "Meta_score       157\n",
            "Director           0\n",
            "Star1              0\n",
            "Star2              0\n",
            "Star3              0\n",
            "Star4              0\n",
            "No_of_Votes        0\n",
            "Gross            169\n",
            "dtype: int64\n"
          ]
        },
        {
          "output_type": "display_data",
          "data": {
            "text/plain": [
              "<Figure size 1000x600 with 1 Axes>"
            ],
            "image/png": "[encoded data removed]"
          },
          "metadata": {}
        }
      ]
    },
    {
      "cell_type": "markdown",
      "source": [
        "O processo de explorar os dados  no início  serve para garantir que estamos lidando com informações bem estruturadas. Saber o tamanho do dataset, e como cada variável está representada e onde podemos ter problemas com dados ausentes. São etapas importantes para preparar a análise de dados.\n",
        "\n",
        "*   Nesta base percebemos que há valores nulos em uma 3 colunas/variaveis, a variavel Gross, valores do faturamento tem grande importância para nossa analise e seria inviável remover estas linhas pelo fato de  representarem um pouco mais de 159% dos dados do dataset.\n",
        "*   O mais viável é  preencher estes valores com a mediana por gênero de filme para uma analalise mais assertiva.\n"
      ],
      "metadata": {
        "id": "cVas059WiHml"
      }
    },
    {
      "cell_type": "code",
      "source": [
        "# o método .info() usado para obter informações gerais sobre o dataset\n",
        "df_indicium_imdb.info()"
      ],
      "metadata": {
        "colab": {
          "base_uri": "https://localhost:8080/"
        },
        "id": "x08zOrm8it_P",
        "outputId": "ec6f269e-b5b2-4673-dce5-bb85508b1eaf"
      },
      "execution_count": null,
      "outputs": [
        {
          "output_type": "stream",
          "name": "stdout",
          "text": [
            "<class 'pandas.core.frame.DataFrame'>\n",
            "Index: 999 entries, 1 to 999\n",
            "Data columns (total 15 columns):\n",
            " #   Column         Non-Null Count  Dtype  \n",
            "---  ------         --------------  -----  \n",
            " 0   Series_Title   999 non-null    object \n",
            " 1   Released_Year  999 non-null    object \n",
            " 2   Certificate    898 non-null    object \n",
            " 3   Runtime        999 non-null    object \n",
            " 4   Genre          999 non-null    object \n",
            " 5   IMDB_Rating    999 non-null    float64\n",
            " 6   Overview       999 non-null    object \n",
            " 7   Meta_score     842 non-null    float64\n",
            " 8   Director       999 non-null    object \n",
            " 9   Star1          999 non-null    object \n",
            " 10  Star2          999 non-null    object \n",
            " 11  Star3          999 non-null    object \n",
            " 12  Star4          999 non-null    object \n",
            " 13  No_of_Votes    999 non-null    int64  \n",
            " 14  Gross          830 non-null    object \n",
            "dtypes: float64(2), int64(1), object(12)\n",
            "memory usage: 124.9+ KB\n"
          ]
        }
      ]
    },
    {
      "cell_type": "code",
      "source": [
        "# lista as primeiras linhas do dataset\n",
        "df_indicium_imdb.head(4)\n"
      ],
      "metadata": {
        "colab": {
          "base_uri": "https://localhost:8080/",
          "height": 559
        },
        "id": "zjPI5JNifR7H",
        "outputId": "746c2da0-4e78-4eab-e491-919dbf914126"
      },
      "execution_count": null,
      "outputs": [
        {
          "output_type": "execute_result",
          "data": {
            "text/plain": [
              "             Series_Title Released_Year Certificate  Runtime  \\\n",
              "1           The Godfather          1972           A  175 min   \n",
              "2         The Dark Knight          2008          UA  152 min   \n",
              "3  The Godfather: Part II          1974           A  202 min   \n",
              "4            12 Angry Men          1957           U   96 min   \n",
              "\n",
              "                  Genre  IMDB_Rating  \\\n",
              "1          Crime, Drama          9.2   \n",
              "2  Action, Crime, Drama          9.0   \n",
              "3          Crime, Drama          9.0   \n",
              "4          Crime, Drama          9.0   \n",
              "\n",
              "                                            Overview  Meta_score  \\\n",
              "1  An organized crime dynasty's aging patriarch t...       100.0   \n",
              "2  When the menace known as the Joker wreaks havo...        84.0   \n",
              "3  The early life and career of Vito Corleone in ...        90.0   \n",
              "4  A jury holdout attempts to prevent a miscarria...        96.0   \n",
              "\n",
              "               Director           Star1           Star2          Star3  \\\n",
              "1  Francis Ford Coppola   Marlon Brando       Al Pacino     James Caan   \n",
              "2     Christopher Nolan  Christian Bale    Heath Ledger  Aaron Eckhart   \n",
              "3  Francis Ford Coppola       Al Pacino  Robert De Niro  Robert Duvall   \n",
              "4          Sidney Lumet     Henry Fonda     Lee J. Cobb  Martin Balsam   \n",
              "\n",
              "           Star4  No_of_Votes        Gross  \n",
              "1   Diane Keaton      1620367  134,966,411  \n",
              "2  Michael Caine      2303232  534,858,444  \n",
              "3   Diane Keaton      1129952   57,300,000  \n",
              "4   John Fiedler       689845    4,360,000  "
            ],
            "text/html": [
              "\n",
              "  <div id=\"df-92cf5cce-2599-4f73-a325-858186dd6c41\" class=\"colab-df-container\">\n",
              "    <div>\n",
              "<style scoped>\n",
              "    .dataframe tbody tr th:only-of-type {\n",
              "        vertical-align: middle;\n",
              "    }\n",
              "\n",
              "    .dataframe tbody tr th {\n",
              "        vertical-align: top;\n",
              "    }\n",
              "\n",
              "    .dataframe thead th {\n",
              "        text-align: right;\n",
              "    }\n",
              "</style>\n",
              "<table border=\"1\" class=\"dataframe\">\n",
              "  <thead>\n",
              "    <tr style=\"text-align: right;\">\n",
              "      <th></th>\n",
              "      <th>Series_Title</th>\n",
              "      <th>Released_Year</th>\n",
              "      <th>Certificate</th>\n",
              "      <th>Runtime</th>\n",
              "      <th>Genre</th>\n",
              "      <th>IMDB_Rating</th>\n",
              "      <th>Overview</th>\n",
              "      <th>Meta_score</th>\n",
              "      <th>Director</th>\n",
              "      <th>Star1</th>\n",
              "      <th>Star2</th>\n",
              "      <th>Star3</th>\n",
              "      <th>Star4</th>\n",
              "      <th>No_of_Votes</th>\n",
              "      <th>Gross</th>\n",
              "    </tr>\n",
              "  </thead>\n",
              "  <tbody>\n",
              "    <tr>\n",
              "      <th>1</th>\n",
              "      <td>The Godfather</td>\n",
              "      <td>1972</td>\n",
              "      <td>A</td>\n",
              "      <td>175 min</td>\n",
              "      <td>Crime, Drama</td>\n",
              "      <td>9.2</td>\n",
              "      <td>An organized crime dynasty's aging patriarch t...</td>\n",
              "      <td>100.0</td>\n",
              "      <td>Francis Ford Coppola</td>\n",
              "      <td>Marlon Brando</td>\n",
              "      <td>Al Pacino</td>\n",
              "      <td>James Caan</td>\n",
              "      <td>Diane Keaton</td>\n",
              "      <td>1620367</td>\n",
              "      <td>134,966,411</td>\n",
              "    </tr>\n",
              "    <tr>\n",
              "      <th>2</th>\n",
              "      <td>The Dark Knight</td>\n",
              "      <td>2008</td>\n",
              "      <td>UA</td>\n",
              "      <td>152 min</td>\n",
              "      <td>Action, Crime, Drama</td>\n",
              "      <td>9.0</td>\n",
              "      <td>When the menace known as the Joker wreaks havo...</td>\n",
              "      <td>84.0</td>\n",
              "      <td>Christopher Nolan</td>\n",
              "      <td>Christian Bale</td>\n",
              "      <td>Heath Ledger</td>\n",
              "      <td>Aaron Eckhart</td>\n",
              "      <td>Michael Caine</td>\n",
              "      <td>2303232</td>\n",
              "      <td>534,858,444</td>\n",
              "    </tr>\n",
              "    <tr>\n",
              "      <th>3</th>\n",
              "      <td>The Godfather: Part II</td>\n",
              "      <td>1974</td>\n",
              "      <td>A</td>\n",
              "      <td>202 min</td>\n",
              "      <td>Crime, Drama</td>\n",
              "      <td>9.0</td>\n",
              "      <td>The early life and career of Vito Corleone in ...</td>\n",
              "      <td>90.0</td>\n",
              "      <td>Francis Ford Coppola</td>\n",
              "      <td>Al Pacino</td>\n",
              "      <td>Robert De Niro</td>\n",
              "      <td>Robert Duvall</td>\n",
              "      <td>Diane Keaton</td>\n",
              "      <td>1129952</td>\n",
              "      <td>57,300,000</td>\n",
              "    </tr>\n",
              "    <tr>\n",
              "      <th>4</th>\n",
              "      <td>12 Angry Men</td>\n",
              "      <td>1957</td>\n",
              "      <td>U</td>\n",
              "      <td>96 min</td>\n",
              "      <td>Crime, Drama</td>\n",
              "      <td>9.0</td>\n",
              "      <td>A jury holdout attempts to prevent a miscarria...</td>\n",
              "      <td>96.0</td>\n",
              "      <td>Sidney Lumet</td>\n",
              "      <td>Henry Fonda</td>\n",
              "      <td>Lee J. Cobb</td>\n",
              "      <td>Martin Balsam</td>\n",
              "      <td>John Fiedler</td>\n",
              "      <td>689845</td>\n",
              "      <td>4,360,000</td>\n",
              "    </tr>\n",
              "  </tbody>\n",
              "</table>\n",
              "</div>\n",
              "    <div class=\"colab-df-buttons\">\n",
              "\n",
              "  <div class=\"colab-df-container\">\n",
              "    <button class=\"colab-df-convert\" onclick=\"convertToInteractive('df-92cf5cce-2599-4f73-a325-858186dd6c41')\"\n",
              "            title=\"Convert this dataframe to an interactive table.\"\n",
              "            style=\"display:none;\">\n",
              "\n",
              "  <svg xmlns=\"http://www.w3.org/2000/svg\" height=\"24px\" viewBox=\"0 -960 960 960\">\n",
              "    <path d=\"M120-120v-720h720v720H120Zm60-500h600v-160H180v160Zm220 220h160v-160H400v160Zm0 220h160v-160H400v160ZM180-400h160v-160H180v160Zm440 0h160v-160H620v160ZM180-180h160v-160H180v160Zm440 0h160v-160H620v160Z\"/>\n",
              "  </svg>\n",
              "    </button>\n",
              "\n",
              "  <style>\n",
              "    .colab-df-container {\n",
              "      display:flex;\n",
              "      gap: 12px;\n",
              "    }\n",
              "\n",
              "    .colab-df-convert {\n",
              "      background-color: #E8F0FE;\n",
              "      border: none;\n",
              "      border-radius: 50%;\n",
              "      cursor: pointer;\n",
              "      display: none;\n",
              "      fill: #1967D2;\n",
              "      height: 32px;\n",
              "      padding: 0 0 0 0;\n",
              "      width: 32px;\n",
              "    }\n",
              "\n",
              "    .colab-df-convert:hover {\n",
              "      background-color: #E2EBFA;\n",
              "      box-shadow: 0px 1px 2px rgba(60, 64, 67, 0.3), 0px 1px 3px 1px rgba(60, 64, 67, 0.15);\n",
              "      fill: #174EA6;\n",
              "    }\n",
              "\n",
              "    .colab-df-buttons div {\n",
              "      margin-bottom: 4px;\n",
              "    }\n",
              "\n",
              "    [theme=dark] .colab-df-convert {\n",
              "      background-color: #3B4455;\n",
              "      fill: #D2E3FC;\n",
              "    }\n",
              "\n",
              "    [theme=dark] .colab-df-convert:hover {\n",
              "      background-color: #434B5C;\n",
              "      box-shadow: 0px 1px 3px 1px rgba(0, 0, 0, 0.15);\n",
              "      filter: drop-shadow(0px 1px 2px rgba(0, 0, 0, 0.3));\n",
              "      fill: #FFFFFF;\n",
              "    }\n",
              "  </style>\n",
              "\n",
              "    <script>\n",
              "      const buttonEl =\n",
              "        document.querySelector('#df-92cf5cce-2599-4f73-a325-858186dd6c41 button.colab-df-convert');\n",
              "      buttonEl.style.display =\n",
              "        google.colab.kernel.accessAllowed ? 'block' : 'none';\n",
              "\n",
              "      async function convertToInteractive(key) {\n",
              "        const element = document.querySelector('#df-92cf5cce-2599-4f73-a325-858186dd6c41');\n",
              "        const dataTable =\n",
              "          await google.colab.kernel.invokeFunction('convertToInteractive',\n",
              "                                                    [key], {});\n",
              "        if (!dataTable) return;\n",
              "\n",
              "        const docLinkHtml = 'Like what you see? Visit the ' +\n",
              "          '<a target=\"_blank\" href=https://colab.research.google.com/notebooks/data_table.ipynb>data table notebook</a>'\n",
              "          + ' to learn more about interactive tables.';\n",
              "        element.innerHTML = '';\n",
              "        dataTable['output_type'] = 'display_data';\n",
              "        await google.colab.output.renderOutput(dataTable, element);\n",
              "        const docLink = document.createElement('div');\n",
              "        docLink.innerHTML = docLinkHtml;\n",
              "        element.appendChild(docLink);\n",
              "      }\n",
              "    </script>\n",
              "  </div>\n",
              "\n",
              "\n",
              "    <div id=\"df-3330ba71-0f80-4a85-bdab-aee75f13d78d\">\n",
              "      <button class=\"colab-df-quickchart\" onclick=\"quickchart('df-3330ba71-0f80-4a85-bdab-aee75f13d78d')\"\n",
              "                title=\"Suggest charts\"\n",
              "                style=\"display:none;\">\n",
              "\n",
              "<svg xmlns=\"http://www.w3.org/2000/svg\" height=\"24px\"viewBox=\"0 0 24 24\"\n",
              "     width=\"24px\">\n",
              "    <g>\n",
              "        <path d=\"M19 3H5c-1.1 0-2 .9-2 2v14c0 1.1.9 2 2 2h14c1.1 0 2-.9 2-2V5c0-1.1-.9-2-2-2zM9 17H7v-7h2v7zm4 0h-2V7h2v10zm4 0h-2v-4h2v4z\"/>\n",
              "    </g>\n",
              "</svg>\n",
              "      </button>\n",
              "\n",
              "<style>\n",
              "  .colab-df-quickchart {\n",
              "      --bg-color: #E8F0FE;\n",
              "      --fill-color: #1967D2;\n",
              "      --hover-bg-color: #E2EBFA;\n",
              "      --hover-fill-color: #174EA6;\n",
              "      --disabled-fill-color: #AAA;\n",
              "      --disabled-bg-color: #DDD;\n",
              "  }\n",
              "\n",
              "  [theme=dark] .colab-df-quickchart {\n",
              "      --bg-color: #3B4455;\n",
              "      --fill-color: #D2E3FC;\n",
              "      --hover-bg-color: #434B5C;\n",
              "      --hover-fill-color: #FFFFFF;\n",
              "      --disabled-bg-color: #3B4455;\n",
              "      --disabled-fill-color: #666;\n",
              "  }\n",
              "\n",
              "  .colab-df-quickchart {\n",
              "    background-color: var(--bg-color);\n",
              "    border: none;\n",
              "    border-radius: 50%;\n",
              "    cursor: pointer;\n",
              "    display: none;\n",
              "    fill: var(--fill-color);\n",
              "    height: 32px;\n",
              "    padding: 0;\n",
              "    width: 32px;\n",
              "  }\n",
              "\n",
              "  .colab-df-quickchart:hover {\n",
              "    background-color: var(--hover-bg-color);\n",
              "    box-shadow: 0 1px 2px rgba(60, 64, 67, 0.3), 0 1px 3px 1px rgba(60, 64, 67, 0.15);\n",
              "    fill: var(--button-hover-fill-color);\n",
              "  }\n",
              "\n",
              "  .colab-df-quickchart-complete:disabled,\n",
              "  .colab-df-quickchart-complete:disabled:hover {\n",
              "    background-color: var(--disabled-bg-color);\n",
              "    fill: var(--disabled-fill-color);\n",
              "    box-shadow: none;\n",
              "  }\n",
              "\n",
              "  .colab-df-spinner {\n",
              "    border: 2px solid var(--fill-color);\n",
              "    border-color: transparent;\n",
              "    border-bottom-color: var(--fill-color);\n",
              "    animation:\n",
              "      spin 1s steps(1) infinite;\n",
              "  }\n",
              "\n",
              "  @keyframes spin {\n",
              "    0% {\n",
              "      border-color: transparent;\n",
              "      border-bottom-color: var(--fill-color);\n",
              "      border-left-color: var(--fill-color);\n",
              "    }\n",
              "    20% {\n",
              "      border-color: transparent;\n",
              "      border-left-color: var(--fill-color);\n",
              "      border-top-color: var(--fill-color);\n",
              "    }\n",
              "    30% {\n",
              "      border-color: transparent;\n",
              "      border-left-color: var(--fill-color);\n",
              "      border-top-color: var(--fill-color);\n",
              "      border-right-color: var(--fill-color);\n",
              "    }\n",
              "    40% {\n",
              "      border-color: transparent;\n",
              "      border-right-color: var(--fill-color);\n",
              "      border-top-color: var(--fill-color);\n",
              "    }\n",
              "    60% {\n",
              "      border-color: transparent;\n",
              "      border-right-color: var(--fill-color);\n",
              "    }\n",
              "    80% {\n",
              "      border-color: transparent;\n",
              "      border-right-color: var(--fill-color);\n",
              "      border-bottom-color: var(--fill-color);\n",
              "    }\n",
              "    90% {\n",
              "      border-color: transparent;\n",
              "      border-bottom-color: var(--fill-color);\n",
              "    }\n",
              "  }\n",
              "</style>\n",
              "\n",
              "      <script>\n",
              "        async function quickchart(key) {\n",
              "          const quickchartButtonEl =\n",
              "            document.querySelector('#' + key + ' button');\n",
              "          quickchartButtonEl.disabled = true;  // To prevent multiple clicks.\n",
              "          quickchartButtonEl.classList.add('colab-df-spinner');\n",
              "          try {\n",
              "            const charts = await google.colab.kernel.invokeFunction(\n",
              "                'suggestCharts', [key], {});\n",
              "          } catch (error) {\n",
              "            console.error('Error during call to suggestCharts:', error);\n",
              "          }\n",
              "          quickchartButtonEl.classList.remove('colab-df-spinner');\n",
              "          quickchartButtonEl.classList.add('colab-df-quickchart-complete');\n",
              "        }\n",
              "        (() => {\n",
              "          let quickchartButtonEl =\n",
              "            document.querySelector('#df-3330ba71-0f80-4a85-bdab-aee75f13d78d button');\n",
              "          quickchartButtonEl.style.display =\n",
              "            google.colab.kernel.accessAllowed ? 'block' : 'none';\n",
              "        })();\n",
              "      </script>\n",
              "    </div>\n",
              "\n",
              "    </div>\n",
              "  </div>\n"
            ],
            "application/vnd.google.colaboratory.intrinsic+json": {
              "type": "dataframe",
              "variable_name": "df_indicium_imdb",
              "summary": "{\n  \"name\": \"df_indicium_imdb\",\n  \"rows\": 999,\n  \"fields\": [\n    {\n      \"column\": \"Series_Title\",\n      \"properties\": {\n        \"dtype\": \"string\",\n        \"num_unique_values\": 998,\n        \"samples\": [\n          \"Arsenic and Old Lace\",\n          \"Hedwig and the Angry Inch\",\n          \"\\u00d4kami kodomo no Ame to Yuki\"\n        ],\n        \"semantic_type\": \"\",\n        \"description\": \"\"\n      }\n    },\n    {\n      \"column\": \"Released_Year\",\n      \"properties\": {\n        \"dtype\": \"category\",\n        \"num_unique_values\": 100,\n        \"samples\": [\n          \"1934\",\n          \"1992\",\n          \"1989\"\n        ],\n        \"semantic_type\": \"\",\n        \"description\": \"\"\n      }\n    },\n    {\n      \"column\": \"Certificate\",\n      \"properties\": {\n        \"dtype\": \"category\",\n        \"num_unique_values\": 16,\n        \"samples\": [\n          \"A\",\n          \"UA\",\n          \"PG\"\n        ],\n        \"semantic_type\": \"\",\n        \"description\": \"\"\n      }\n    },\n    {\n      \"column\": \"Runtime\",\n      \"properties\": {\n        \"dtype\": \"category\",\n        \"num_unique_values\": 140,\n        \"samples\": [\n          \"205 min\",\n          \"129 min\",\n          \"112 min\"\n        ],\n        \"semantic_type\": \"\",\n        \"description\": \"\"\n      }\n    },\n    {\n      \"column\": \"Genre\",\n      \"properties\": {\n        \"dtype\": \"category\",\n        \"num_unique_values\": 202,\n        \"samples\": [\n          \"Comedy, Drama, Fantasy\",\n          \"Crime, Drama, Fantasy\",\n          \"Drama, Romance, War\"\n        ],\n        \"semantic_type\": \"\",\n        \"description\": \"\"\n      }\n    },\n    {\n      \"column\": \"IMDB_Rating\",\n      \"properties\": {\n        \"dtype\": \"number\",\n        \"std\": 0.2722895085128789,\n        \"min\": 7.6,\n        \"max\": 9.2,\n        \"num_unique_values\": 16,\n        \"samples\": [\n          9.2,\n          9.0,\n          8.6\n        ],\n        \"semantic_type\": \"\",\n        \"description\": \"\"\n      }\n    },\n    {\n      \"column\": \"Overview\",\n      \"properties\": {\n        \"dtype\": \"string\",\n        \"num_unique_values\": 999,\n        \"samples\": [\n          \"Three World War II veterans return home to small-town America to discover that they and their families have been irreparably changed.\",\n          \"A gender-queer punk-rock singer from East Berlin tours the U.S. with her band as she tells her life story and follows the former lover/band-mate who stole her songs.\",\n          \"With his wife's disappearance having become the focus of an intense media circus, a man sees the spotlight turned on him when it's suspected that he may not be innocent.\"\n        ],\n        \"semantic_type\": \"\",\n        \"description\": \"\"\n      }\n    },\n    {\n      \"column\": \"Meta_score\",\n      \"properties\": {\n        \"dtype\": \"number\",\n        \"std\": 12.383257326288954,\n        \"min\": 28.0,\n        \"max\": 100.0,\n        \"num_unique_values\": 63,\n        \"samples\": [\n          30.0,\n          52.0,\n          100.0\n        ],\n        \"semantic_type\": \"\",\n        \"description\": \"\"\n      }\n    },\n    {\n      \"column\": \"Director\",\n      \"properties\": {\n        \"dtype\": \"string\",\n        \"num_unique_values\": 548,\n        \"samples\": [\n          \"Satoshi Kon\",\n          \"David Lean\",\n          \"Yilmaz Erdogan\"\n        ],\n        \"semantic_type\": \"\",\n        \"description\": \"\"\n      }\n    },\n    {\n      \"column\": \"Star1\",\n      \"properties\": {\n        \"dtype\": \"string\",\n        \"num_unique_values\": 659,\n        \"samples\": [\n          \"Peter Dinklage\",\n          \"Jay Baruchel\",\n          \"Steve McQueen\"\n        ],\n        \"semantic_type\": \"\",\n        \"description\": \"\"\n      }\n    },\n    {\n      \"column\": \"Star2\",\n      \"properties\": {\n        \"dtype\": \"string\",\n        \"num_unique_values\": 840,\n        \"samples\": [\n          \"Jacques Villeret\",\n          \"Meg Ryan\",\n          \"J.K. Simmons\"\n        ],\n        \"semantic_type\": \"\",\n        \"description\": \"\"\n      }\n    },\n    {\n      \"column\": \"Star3\",\n      \"properties\": {\n        \"dtype\": \"string\",\n        \"num_unique_values\": 890,\n        \"samples\": [\n          \"Yacef Saadi\",\n          \"John Wray\",\n          \"Chazz Palminteri\"\n        ],\n        \"semantic_type\": \"\",\n        \"description\": \"\"\n      }\n    },\n    {\n      \"column\": \"Star4\",\n      \"properties\": {\n        \"dtype\": \"string\",\n        \"num_unique_values\": 938,\n        \"samples\": [\n          \"Veronica Cartwright\",\n          \"Domhnall Gleeson\",\n          \"Jennifer Ulrich\"\n        ],\n        \"semantic_type\": \"\",\n        \"description\": \"\"\n      }\n    },\n    {\n      \"column\": \"No_of_Votes\",\n      \"properties\": {\n        \"dtype\": \"number\",\n        \"std\": 320912,\n        \"min\": 25088,\n        \"max\": 2303232,\n        \"num_unique_values\": 998,\n        \"samples\": [\n          57259,\n          31957,\n          859695\n        ],\n        \"semantic_type\": \"\",\n        \"description\": \"\"\n      }\n    },\n    {\n      \"column\": \"Gross\",\n      \"properties\": {\n        \"dtype\": \"string\",\n        \"num_unique_values\": 822,\n        \"samples\": [\n          \"136,025,503\",\n          \"356,461,711\",\n          \"275,902\"\n        ],\n        \"semantic_type\": \"\",\n        \"description\": \"\"\n      }\n    }\n  ]\n}"
            }
          },
          "metadata": {},
          "execution_count": 35
        }
      ]
    },
    {
      "cell_type": "markdown",
      "source": [
        "## **2. Questões sobre a Análise premilinar:**"
      ],
      "metadata": {
        "id": "0risVno1MC0v"
      }
    },
    {
      "cell_type": "markdown",
      "source": [
        "\n",
        "\n",
        "# a . Qual filme você recomendaria para uma pessoa que você não conhece?\n",
        "\n",
        "     \n",
        "\n",
        "\n"
      ],
      "metadata": {
        "id": "52imv7mcrPtB"
      }
    },
    {
      "cell_type": "markdown",
      "source": [
        "Verificaria três filmes com nota acima de 8 e com maior número de votos e sugeriria esta lista como escolha, assim haveria a possibilidade de haver gêneros diferentes e mais opções para uma escolha mais assertiva de acordo com o gosto da pessoa."
      ],
      "metadata": {
        "id": "ZmRs3Fwn080b"
      }
    },
    {
      "cell_type": "code",
      "source": [
        "# Filtrar apenas os filmes com nota > 8.0\n",
        "thebest = df_indicium_imdb[\n",
        "    (df_indicium_imdb[\"IMDB_Rating\"] > 8)\n",
        "]\n",
        "\n",
        "# Ordenar por número de votos (do maior para o menor)\n",
        "thebest = thebest.sort_values(by=\"No_of_Votes\", ascending=False)\n",
        "\n",
        "# Exibir os 3  \"melhores\"\n",
        "thebest[[\"Series_Title\", \"Genre\", \"Released_Year\", \"IMDB_Rating\", \"No_of_Votes\"]].head(3)\n"
      ],
      "metadata": {
        "colab": {
          "base_uri": "https://localhost:8080/",
          "height": 143
        },
        "id": "U3paT2cLs5Zg",
        "outputId": "56a4c08a-f13d-4e19-fda2-b722ec9181c0",
        "collapsed": true
      },
      "execution_count": null,
      "outputs": [
        {
          "output_type": "execute_result",
          "data": {
            "text/plain": [
              "      Series_Title                      Genre Released_Year  IMDB_Rating  \\\n",
              "2  The Dark Knight       Action, Crime, Drama          2008          9.0   \n",
              "8        Inception  Action, Adventure, Sci-Fi          2010          8.8   \n",
              "9       Fight Club                      Drama          1999          8.8   \n",
              "\n",
              "   No_of_Votes  \n",
              "2      2303232  \n",
              "8      2067042  \n",
              "9      1854740  "
            ],
            "text/html": [
              "\n",
              "  <div id=\"df-7b4609f3-662a-4b9a-adf4-c3cfd20bc86c\" class=\"colab-df-container\">\n",
              "    <div>\n",
              "<style scoped>\n",
              "    .dataframe tbody tr th:only-of-type {\n",
              "        vertical-align: middle;\n",
              "    }\n",
              "\n",
              "    .dataframe tbody tr th {\n",
              "        vertical-align: top;\n",
              "    }\n",
              "\n",
              "    .dataframe thead th {\n",
              "        text-align: right;\n",
              "    }\n",
              "</style>\n",
              "<table border=\"1\" class=\"dataframe\">\n",
              "  <thead>\n",
              "    <tr style=\"text-align: right;\">\n",
              "      <th></th>\n",
              "      <th>Series_Title</th>\n",
              "      <th>Genre</th>\n",
              "      <th>Released_Year</th>\n",
              "      <th>IMDB_Rating</th>\n",
              "      <th>No_of_Votes</th>\n",
              "    </tr>\n",
              "  </thead>\n",
              "  <tbody>\n",
              "    <tr>\n",
              "      <th>2</th>\n",
              "      <td>The Dark Knight</td>\n",
              "      <td>Action, Crime, Drama</td>\n",
              "      <td>2008</td>\n",
              "      <td>9.0</td>\n",
              "      <td>2303232</td>\n",
              "    </tr>\n",
              "    <tr>\n",
              "      <th>8</th>\n",
              "      <td>Inception</td>\n",
              "      <td>Action, Adventure, Sci-Fi</td>\n",
              "      <td>2010</td>\n",
              "      <td>8.8</td>\n",
              "      <td>2067042</td>\n",
              "    </tr>\n",
              "    <tr>\n",
              "      <th>9</th>\n",
              "      <td>Fight Club</td>\n",
              "      <td>Drama</td>\n",
              "      <td>1999</td>\n",
              "      <td>8.8</td>\n",
              "      <td>1854740</td>\n",
              "    </tr>\n",
              "  </tbody>\n",
              "</table>\n",
              "</div>\n",
              "    <div class=\"colab-df-buttons\">\n",
              "\n",
              "  <div class=\"colab-df-container\">\n",
              "    <button class=\"colab-df-convert\" onclick=\"convertToInteractive('df-7b4609f3-662a-4b9a-adf4-c3cfd20bc86c')\"\n",
              "            title=\"Convert this dataframe to an interactive table.\"\n",
              "            style=\"display:none;\">\n",
              "\n",
              "  <svg xmlns=\"http://www.w3.org/2000/svg\" height=\"24px\" viewBox=\"0 -960 960 960\">\n",
              "    <path d=\"M120-120v-720h720v720H120Zm60-500h600v-160H180v160Zm220 220h160v-160H400v160Zm0 220h160v-160H400v160ZM180-400h160v-160H180v160Zm440 0h160v-160H620v160ZM180-180h160v-160H180v160Zm440 0h160v-160H620v160Z\"/>\n",
              "  </svg>\n",
              "    </button>\n",
              "\n",
              "  <style>\n",
              "    .colab-df-container {\n",
              "      display:flex;\n",
              "      gap: 12px;\n",
              "    }\n",
              "\n",
              "    .colab-df-convert {\n",
              "      background-color: #E8F0FE;\n",
              "      border: none;\n",
              "      border-radius: 50%;\n",
              "      cursor: pointer;\n",
              "      display: none;\n",
              "      fill: #1967D2;\n",
              "      height: 32px;\n",
              "      padding: 0 0 0 0;\n",
              "      width: 32px;\n",
              "    }\n",
              "\n",
              "    .colab-df-convert:hover {\n",
              "      background-color: #E2EBFA;\n",
              "      box-shadow: 0px 1px 2px rgba(60, 64, 67, 0.3), 0px 1px 3px 1px rgba(60, 64, 67, 0.15);\n",
              "      fill: #174EA6;\n",
              "    }\n",
              "\n",
              "    .colab-df-buttons div {\n",
              "      margin-bottom: 4px;\n",
              "    }\n",
              "\n",
              "    [theme=dark] .colab-df-convert {\n",
              "      background-color: #3B4455;\n",
              "      fill: #D2E3FC;\n",
              "    }\n",
              "\n",
              "    [theme=dark] .colab-df-convert:hover {\n",
              "      background-color: #434B5C;\n",
              "      box-shadow: 0px 1px 3px 1px rgba(0, 0, 0, 0.15);\n",
              "      filter: drop-shadow(0px 1px 2px rgba(0, 0, 0, 0.3));\n",
              "      fill: #FFFFFF;\n",
              "    }\n",
              "  </style>\n",
              "\n",
              "    <script>\n",
              "      const buttonEl =\n",
              "        document.querySelector('#df-7b4609f3-662a-4b9a-adf4-c3cfd20bc86c button.colab-df-convert');\n",
              "      buttonEl.style.display =\n",
              "        google.colab.kernel.accessAllowed ? 'block' : 'none';\n",
              "\n",
              "      async function convertToInteractive(key) {\n",
              "        const element = document.querySelector('#df-7b4609f3-662a-4b9a-adf4-c3cfd20bc86c');\n",
              "        const dataTable =\n",
              "          await google.colab.kernel.invokeFunction('convertToInteractive',\n",
              "                                                    [key], {});\n",
              "        if (!dataTable) return;\n",
              "\n",
              "        const docLinkHtml = 'Like what you see? Visit the ' +\n",
              "          '<a target=\"_blank\" href=https://colab.research.google.com/notebooks/data_table.ipynb>data table notebook</a>'\n",
              "          + ' to learn more about interactive tables.';\n",
              "        element.innerHTML = '';\n",
              "        dataTable['output_type'] = 'display_data';\n",
              "        await google.colab.output.renderOutput(dataTable, element);\n",
              "        const docLink = document.createElement('div');\n",
              "        docLink.innerHTML = docLinkHtml;\n",
              "        element.appendChild(docLink);\n",
              "      }\n",
              "    </script>\n",
              "  </div>\n",
              "\n",
              "\n",
              "    <div id=\"df-e996cac3-4b85-4a87-8034-d30ab8fde85b\">\n",
              "      <button class=\"colab-df-quickchart\" onclick=\"quickchart('df-e996cac3-4b85-4a87-8034-d30ab8fde85b')\"\n",
              "                title=\"Suggest charts\"\n",
              "                style=\"display:none;\">\n",
              "\n",
              "<svg xmlns=\"http://www.w3.org/2000/svg\" height=\"24px\"viewBox=\"0 0 24 24\"\n",
              "     width=\"24px\">\n",
              "    <g>\n",
              "        <path d=\"M19 3H5c-1.1 0-2 .9-2 2v14c0 1.1.9 2 2 2h14c1.1 0 2-.9 2-2V5c0-1.1-.9-2-2-2zM9 17H7v-7h2v7zm4 0h-2V7h2v10zm4 0h-2v-4h2v4z\"/>\n",
              "    </g>\n",
              "</svg>\n",
              "      </button>\n",
              "\n",
              "<style>\n",
              "  .colab-df-quickchart {\n",
              "      --bg-color: #E8F0FE;\n",
              "      --fill-color: #1967D2;\n",
              "      --hover-bg-color: #E2EBFA;\n",
              "      --hover-fill-color: #174EA6;\n",
              "      --disabled-fill-color: #AAA;\n",
              "      --disabled-bg-color: #DDD;\n",
              "  }\n",
              "\n",
              "  [theme=dark] .colab-df-quickchart {\n",
              "      --bg-color: #3B4455;\n",
              "      --fill-color: #D2E3FC;\n",
              "      --hover-bg-color: #434B5C;\n",
              "      --hover-fill-color: #FFFFFF;\n",
              "      --disabled-bg-color: #3B4455;\n",
              "      --disabled-fill-color: #666;\n",
              "  }\n",
              "\n",
              "  .colab-df-quickchart {\n",
              "    background-color: var(--bg-color);\n",
              "    border: none;\n",
              "    border-radius: 50%;\n",
              "    cursor: pointer;\n",
              "    display: none;\n",
              "    fill: var(--fill-color);\n",
              "    height: 32px;\n",
              "    padding: 0;\n",
              "    width: 32px;\n",
              "  }\n",
              "\n",
              "  .colab-df-quickchart:hover {\n",
              "    background-color: var(--hover-bg-color);\n",
              "    box-shadow: 0 1px 2px rgba(60, 64, 67, 0.3), 0 1px 3px 1px rgba(60, 64, 67, 0.15);\n",
              "    fill: var(--button-hover-fill-color);\n",
              "  }\n",
              "\n",
              "  .colab-df-quickchart-complete:disabled,\n",
              "  .colab-df-quickchart-complete:disabled:hover {\n",
              "    background-color: var(--disabled-bg-color);\n",
              "    fill: var(--disabled-fill-color);\n",
              "    box-shadow: none;\n",
              "  }\n",
              "\n",
              "  .colab-df-spinner {\n",
              "    border: 2px solid var(--fill-color);\n",
              "    border-color: transparent;\n",
              "    border-bottom-color: var(--fill-color);\n",
              "    animation:\n",
              "      spin 1s steps(1) infinite;\n",
              "  }\n",
              "\n",
              "  @keyframes spin {\n",
              "    0% {\n",
              "      border-color: transparent;\n",
              "      border-bottom-color: var(--fill-color);\n",
              "      border-left-color: var(--fill-color);\n",
              "    }\n",
              "    20% {\n",
              "      border-color: transparent;\n",
              "      border-left-color: var(--fill-color);\n",
              "      border-top-color: var(--fill-color);\n",
              "    }\n",
              "    30% {\n",
              "      border-color: transparent;\n",
              "      border-left-color: var(--fill-color);\n",
              "      border-top-color: var(--fill-color);\n",
              "      border-right-color: var(--fill-color);\n",
              "    }\n",
              "    40% {\n",
              "      border-color: transparent;\n",
              "      border-right-color: var(--fill-color);\n",
              "      border-top-color: var(--fill-color);\n",
              "    }\n",
              "    60% {\n",
              "      border-color: transparent;\n",
              "      border-right-color: var(--fill-color);\n",
              "    }\n",
              "    80% {\n",
              "      border-color: transparent;\n",
              "      border-right-color: var(--fill-color);\n",
              "      border-bottom-color: var(--fill-color);\n",
              "    }\n",
              "    90% {\n",
              "      border-color: transparent;\n",
              "      border-bottom-color: var(--fill-color);\n",
              "    }\n",
              "  }\n",
              "</style>\n",
              "\n",
              "      <script>\n",
              "        async function quickchart(key) {\n",
              "          const quickchartButtonEl =\n",
              "            document.querySelector('#' + key + ' button');\n",
              "          quickchartButtonEl.disabled = true;  // To prevent multiple clicks.\n",
              "          quickchartButtonEl.classList.add('colab-df-spinner');\n",
              "          try {\n",
              "            const charts = await google.colab.kernel.invokeFunction(\n",
              "                'suggestCharts', [key], {});\n",
              "          } catch (error) {\n",
              "            console.error('Error during call to suggestCharts:', error);\n",
              "          }\n",
              "          quickchartButtonEl.classList.remove('colab-df-spinner');\n",
              "          quickchartButtonEl.classList.add('colab-df-quickchart-complete');\n",
              "        }\n",
              "        (() => {\n",
              "          let quickchartButtonEl =\n",
              "            document.querySelector('#df-e996cac3-4b85-4a87-8034-d30ab8fde85b button');\n",
              "          quickchartButtonEl.style.display =\n",
              "            google.colab.kernel.accessAllowed ? 'block' : 'none';\n",
              "        })();\n",
              "      </script>\n",
              "    </div>\n",
              "\n",
              "    </div>\n",
              "  </div>\n"
            ],
            "application/vnd.google.colaboratory.intrinsic+json": {
              "type": "dataframe",
              "repr_error": "0"
            }
          },
          "metadata": {},
          "execution_count": 36
        }
      ]
    },
    {
      "cell_type": "markdown",
      "source": [
        "# b. Quais são os principais fatores que estão relacionados com alta expectativa de faturamento de um filme?\n"
      ],
      "metadata": {
        "id": "StkmFuivsCua"
      }
    },
    {
      "cell_type": "markdown",
      "source": [
        "A escolha de diretores e atores, numero de votos e valores do faturamento."
      ],
      "metadata": {
        "id": "mj67o3Ri-dIS"
      }
    },
    {
      "cell_type": "markdown",
      "source": [
        "\n",
        "# c. Quais insights podem ser tirados com a coluna Overview?\n",
        "\n",
        "* Verificar as palavras que aparecem muitas vezes remetem  ao gênero do filme. Exemplo war, love, life, killer/dead, tem grande possibilidade de remeter respectivamente em gêneros ação, romance,biografia, terror.\n",
        "\n",
        "* Através da emoção/sentimento expressado pelas palavras na sinopse  do filme, é possivel inferir o genero do fime, por exemplo palavras com contexto negativo, como morte, assassinato, destruição remetem a drama, terror, palavras que remetem ao contexto positivo como amor e amizade, remete ao gênero de romance,comédia palavras com contexto de ação geralmente remetem a aventura.\n",
        "\n",
        "  # É possível inferir o gênero do filme a partir dessa coluna?\n",
        "\n",
        "  Sim, uma das formas é treinar um modelo."
      ],
      "metadata": {
        "id": "r5ImDA6EsGzr"
      }
    },
    {
      "cell_type": "markdown",
      "source": [
        "# 3 . Explique como você faria a previsão da nota do imdb a partir dos dados.\n",
        "\n",
        "**Quais variáveis e/ou suas transformações você utilizou e por quê?**\n",
        "\n",
        "\n",
        "Escolheria as variaveis mais importantes:\n",
        "\n",
        "  Runtime – Tempo de duração\n",
        "\n",
        "  Meta_score - Média ponderada de todas as críticas\n",
        "\n",
        "  No_of_Votes - Número de votos\n",
        "\n",
        "  Gross - Faturamento\n",
        "\n",
        "  Certificate - Classificação etária\n",
        "\n",
        "  Genre - Gênero\n",
        "\n",
        "  Director – Diretor\n",
        "\n",
        "  Stars - Atriz/ator\n",
        "  \n",
        "  Overview - Sinopse do Filme\n",
        "\n",
        "  Transformações:\n",
        "  log-transform - No_of_Votes Gross\n",
        "\n",
        "   one-hot encoding:\n",
        "   Genre - Gênero, Certificate - Classificação etária\n",
        "   \n",
        "   TF-IDF:  Overview\n",
        "\n"
      ],
      "metadata": {
        "id": "kCYN42e3N4Ni"
      }
    },
    {
      "cell_type": "markdown",
      "source": [
        "**Qual tipo de problema estamos resolvendo (regressão, classificação)?**\n",
        "\n",
        "Regressão."
      ],
      "metadata": {
        "id": "8yaCFZmmh_ZN"
      }
    },
    {
      "cell_type": "markdown",
      "source": [
        "**Qual modelo melhor se aproxima dos dados e quais seus prós e contras?**\n",
        "\n",
        "O modelo que atende melhor neste caso é o Random forest pois captura relações não lineares e lida bem com variáveis numéricas e categóricas, por outro lado é mais lento no caso de datasets grandes, mas neste caso faz um bom trabalho só não é tão fácil a interpretação como é a  regressão linear."
      ],
      "metadata": {
        "id": "kPTjJsAuiCFd"
      }
    },
    {
      "cell_type": "markdown",
      "source": [
        "**Qual medida de performance do modelo foi escolhida e por quê?**\n",
        "\n",
        "As medidas escolhidas foram: RMSE-Root Mean Squared Error e  R² -Coeficiente de Determinação.\n",
        "\n",
        "  RMSE-esta medida foi escolhida pois mostra  como o modelo está em relação as notas reais .\n",
        "\n",
        "  R² - esta medida foi escolhida pois mostra se o modelo realmente captura a tendência geral das notas ou se é algo empiríco.\n"
      ],
      "metadata": {
        "id": "2t2ns1UciF_P"
      }
    },
    {
      "cell_type": "code",
      "source": [
        "import pandas as pd\n",
        "from sklearn.model_selection import train_test_split\n",
        "from sklearn.preprocessing import OneHotEncoder\n",
        "from sklearn.ensemble import RandomForestRegressor\n",
        "from sklearn.metrics import mean_squared_error, r2_score\n",
        "import numpy as np\n",
        "\n",
        "#Remove linhas com valores ausentes nas colunas que vamos usar\n",
        "df_modelo = df_modelo.dropna(subset=['Runtime', 'Meta_score', 'No_of_Votes', 'Gross', 'Genre', 'IMDB_Rating'])\n",
        "\n",
        "#Normalização das colunas problemáticas\n",
        "#Runtime: remove \" min\" e converte para inteiro\n",
        "df_modelo['Runtime'] = (\n",
        "    df_modelo['Runtime']\n",
        "    .astype(str)                  # garante string\n",
        "    .str.replace(' min', '', regex=False)\n",
        "    .str.strip()                  # remove espaços extras\n",
        "    .replace('', np.nan)          # caso tenha vazio\n",
        "    .astype(float)                # converte para número\n",
        "    .astype(int)                  # inteiro final\n",
        ")\n",
        "\n",
        "# Gross: remove vírgulas e converte para float\n",
        "df_modelo['Gross'] = (\n",
        "    df_modelo['Gross']\n",
        "    .astype(str)                  # garante string\n",
        "    .str.replace(',', '', regex=False)\n",
        "    .str.strip()\n",
        "    .replace('', np.nan)\n",
        "    .astype(float)\n",
        ")\n",
        "\n",
        "#Separa variáveis numéricas e categóricas\n",
        "X_num = df_modelo[['Runtime', 'Meta_score', 'No_of_Votes', 'Gross']]\n",
        "X_cat = df_modelo[['Genre']]\n",
        "\n",
        "# One-hot encoding para 'Genre'\n",
        "encoder = OneHotEncoder(drop='first')\n",
        "X_cat_encoded = encoder.fit_transform(X_cat)\n",
        "\n",
        "#Combina numéricas + categóricas\n",
        "X = np.hstack([X_num.values, X_cat_encoded.toarray()])\n",
        "y = df_modelo['IMDB_Rating'].values\n",
        "\n",
        "#Divide treino e teste\n",
        "X_train, X_test, y_train, y_test = train_test_split(X, y, test_size=0.3, random_state=42)\n",
        "\n",
        "#Treina o modelo\n",
        "model = RandomForestRegressor(n_estimators=200, random_state=42)\n",
        "model.fit(X_train, y_train)\n",
        "\n",
        "#Faz previsões\n",
        "y_pred = model.predict(X_test)\n",
        "\n",
        "#Avalia desempenho\n",
        "rmse = np.sqrt(mean_squared_error(y_test, y_pred))\n",
        "r2 = r2_score(y_test, y_pred)\n",
        "\n",
        "print(\"RMSE:\", rmse)\n",
        "print(\"R²:\", r2)\n",
        "\n",
        "#Exibe exemplos reais vs previstos\n",
        "exemplos = pd.DataFrame({\n",
        "    \"IMDB Real\": y_test[:5],\n",
        "    \"IMDB Previsto\": y_pred[:5]\n",
        "})\n",
        "print(\"\\n Exemplos de previsão:\\n\", exemplos)\n"
      ],
      "metadata": {
        "colab": {
          "base_uri": "https://localhost:8080/"
        },
        "id": "H0NHJdTtn_nI",
        "outputId": "be15a2a5-dc9b-421f-e8b8-ff144587ad0f"
      },
      "execution_count": null,
      "outputs": [
        {
          "output_type": "stream",
          "name": "stdout",
          "text": [
            "RMSE: 0.19999669163930425\n",
            "R²: 0.5258612035679802\n",
            "\n",
            " Exemplos de previsão:\n",
            "    IMDB Real  IMDB Previsto\n",
            "0        7.7         7.7735\n",
            "1        7.9         7.7540\n",
            "2        8.2         8.3165\n",
            "3        8.0         7.8400\n",
            "4        8.0         7.6635\n"
          ]
        }
      ]
    },
    {
      "cell_type": "markdown",
      "source": [
        "Para se ter uma ideia da precisão do modelo usado, vamos exibir o modelo usando um grafico de dispersão"
      ],
      "metadata": {
        "id": "fDRNI9w3e3Co"
      }
    },
    {
      "cell_type": "markdown",
      "source": [
        "# Gráfico de Dispersão\n",
        "\n",
        "Exibe a qualidade do modelo, o quanto o modelo acertou em sua previsão."
      ],
      "metadata": {
        "id": "FBJFLbEVco7n"
      }
    },
    {
      "cell_type": "code",
      "source": [
        "import matplotlib.pyplot as plt\n",
        "\n",
        "plt.figure(figsize=(8, 6))\n",
        "plt.gca().set_facecolor(\"#fff0f5\")\n",
        "\n",
        "plt.scatter(y_test, y_pred, color=\"#f7c6c7\", edgecolors='gray')\n",
        "plt.plot([min(y_test), max(y_test)], [min(y_test), max(y_test)],\n",
        "         color=\"#555555\", linestyle='--', linewidth=2)\n",
        "\n",
        "plt.xlabel(\" Nota real\", fontsize=12)\n",
        "plt.ylabel(\" Nota prevista\", fontsize=12)\n",
        "plt.title(\"Modelo real vs previsão\", fontsize=14, weight='bold')\n",
        "plt.grid(True, linestyle=':', linewidth=0.6, color=\"#f2dede\")\n",
        "plt.legend()\n",
        "plt.tight_layout()\n",
        "plt.show()"
      ],
      "metadata": {
        "colab": {
          "base_uri": "https://localhost:8080/",
          "height": 607
        },
        "id": "oLfSsrcqif6u",
        "outputId": "31048615-cb85-4b18-8abf-5e93139f3712"
      },
      "execution_count": null,
      "outputs": [
        {
          "output_type": "display_data",
          "data": {
            "text/plain": [
              "<Figure size 800x600 with 1 Axes>"
            ],
            "image/png": "[encoded data removed]"
          },
          "metadata": {}
        }
      ]
    },
    {
      "cell_type": "markdown",
      "source": [
        "1- Modelo acerta a previsão = o ponto cai em cima dessa linha.\n",
        "\n",
        "2- Modelo erra:\n",
        "*   Se a previsão >  a real, o ponto fica acima da linha.\n",
        "*   Se a previsão < a real, o ponto fica abaixo da linha.\n",
        "\n",
        "OBS: Quanto mais longe da linha, maior o erro do modelo em relação ao original."
      ],
      "metadata": {
        "id": "czGIYixxjNRl"
      }
    },
    {
      "cell_type": "markdown",
      "source": [
        "## 4. Supondo um filme com as seguintes características:\n",
        "{'Título_da_série': 'Um Sonho de Liberdade', 'Ano_de_lançamento': '1994', 'Certificado': 'A', 'Duração': '142 min', 'Gênero': 'Drama', 'Visão geral': 'Dois homens presos se unem ao longo de vários anos, encontrando consolo e, por fim, redenção por meio de atos de decência.', 'Meta_pontuação': 80,0, 'Diretor': 'Frank Darabont', 'Estrela 1': 'Tim Robbins', 'Estrela 2': 'Morgan Freeman', 'Estrela 3': 'Bob Gunton', 'Estrela 4': 'William Sadler', 'Número_de_Votos': 2343110, 'Bruto': '28.341.469'}\n",
        "\n",
        "## Qual seria a nota do IMDB?"
      ],
      "metadata": {
        "id": "-IRKTo8erxO6"
      }
    },
    {
      "cell_type": "code",
      "source": [
        "#Previsão para o filme_sugerido\n",
        "filme_sugerido = {\n",
        "    'Título_da_série': 'Um Sonho de Liberdade',\n",
        "    'Ano_de_lançamento': '1994',\n",
        "    'Certificado': 'A',\n",
        "    'Duração': '142 min',\n",
        "    'Gênero': 'Drama',\n",
        "    'Visão geral': 'Dois homens presos se unem ao longo de vários anos...',\n",
        "    'Meta_pontuação': 80.0,\n",
        "    'Diretor': 'Frank Darabont',\n",
        "    'Estrela 1': 'Tim Robbins',\n",
        "    'Estrela 2': 'Morgan Freeman',\n",
        "    'Estrela 3': 'Bob Gunton',\n",
        "    'Estrela 4': 'William Sadler',\n",
        "    'Número_de_Votos': 2343110,\n",
        "    'Bruto': '28.341.469'\n",
        "}\n",
        "\n",
        "# Preparar os dados do filme_sugerido\n",
        "runtime = int(filme_sugerido['Duração'].replace(' min', ''))\n",
        "meta_score = float(filme_sugerido['Meta_pontuação'])\n",
        "votes = int(filme_sugerido['Número_de_Votos'])\n",
        "gross = float(filme_sugerido['Bruto'].replace('.', ''))  # transforma em número\n",
        "genre = filme_sugerido['Gênero']\n",
        "\n",
        "# Criar DataFrame de entrada\n",
        "df_filme_sugerido = pd.DataFrame({\n",
        "    'Runtime': [runtime],\n",
        "    'Meta_score': [meta_score],\n",
        "    'No_of_Votes': [votes],\n",
        "    'Gross': [gross],\n",
        "    'Genre': [genre]\n",
        "})\n",
        "\n",
        "#Separar numéricas e categóricas\n",
        "X_num_novo = df_filme_sugerido[['Runtime', 'Meta_score', 'No_of_Votes', 'Gross']]\n",
        "X_cat_novo = encoder.transform(df_filme_sugerido[['Genre']])\n",
        "\n",
        "#Combinar numéricas + categóricas\n",
        "X_novo = np.hstack([X_num_novo.values, X_cat_novo.toarray()])\n",
        "\n",
        "#Fazer previsão\n",
        "nota_prevista = model.predict(X_novo)[0]\n",
        "print(f\"\\n Nota prevista para '{filme_sugerido['Título_da_série']}': {nota_prevista:.2f}\")\n"
      ],
      "metadata": {
        "colab": {
          "base_uri": "https://localhost:8080/"
        },
        "id": "bnxjJTkHo7Vt",
        "outputId": "a85a05b0-3a00-4c31-8681-9df536142673"
      },
      "execution_count": null,
      "outputs": [
        {
          "output_type": "stream",
          "name": "stdout",
          "text": [
            "\n",
            " Nota prevista para 'Um Sonho de Liberdade': 8.79\n"
          ]
        }
      ]
    },
    {
      "cell_type": "markdown",
      "source": [
        "Foi utilizado o mesmo pipeline da questão anterior.\n",
        "\n",
        "Adiciona a previsão para o filme sugerido\n",
        "\n",
        "Converte as variáveis Gross, Runtime.\n",
        "\n",
        "Usa o mesmo OneHotEncoder treinado com os dados anteriores."
      ],
      "metadata": {
        "id": "FoNxlM8i28wm"
      }
    },
    {
      "cell_type": "markdown",
      "source": [
        "***Salva e baixa arquivos .pkl***"
      ],
      "metadata": {
        "id": "moBacyHuyWD-"
      }
    },
    {
      "cell_type": "code",
      "source": [
        "import joblib\n",
        "from google.colab import files\n",
        "\n",
        "# Salvar modelo e encoder no diretório do Colab\n",
        "joblib.dump(model, \"modelo_imdb.pkl\")\n",
        "joblib.dump(encoder, \"encoder_genero.pkl\")\n",
        "\n",
        "# Fazer download para sua máquina\n",
        "files.download(\"modelo_imdb.pkl\")\n",
        "files.download(\"encoder_genero.pkl\")\n"
      ],
      "metadata": {
        "colab": {
          "base_uri": "https://localhost:8080/",
          "height": 17
        },
        "id": "6umSO7XZxkGK",
        "outputId": "e8adf018-99ed-45e9-e515-14d7263b4769"
      },
      "execution_count": 54,
      "outputs": [
        {
          "output_type": "display_data",
          "data": {
            "text/plain": [
              "<IPython.core.display.Javascript object>"
            ],
            "application/javascript": [
              "\n",
              "    async function download(id, filename, size) {\n",
              "      if (!google.colab.kernel.accessAllowed) {\n",
              "        return;\n",
              "      }\n",
              "      const div = document.createElement('div');\n",
              "      const label = document.createElement('label');\n",
              "      label.textContent = `Downloading \"${filename}\": `;\n",
              "      div.appendChild(label);\n",
              "      const progress = document.createElement('progress');\n",
              "      progress.max = size;\n",
              "      div.appendChild(progress);\n",
              "      document.body.appendChild(div);\n",
              "\n",
              "      const buffers = [];\n",
              "      let downloaded = 0;\n",
              "\n",
              "      const channel = await google.colab.kernel.comms.open(id);\n",
              "      // Send a message to notify the kernel that we're ready.\n",
              "      channel.send({})\n",
              "\n",
              "      for await (const message of channel.messages) {\n",
              "        // Send a message to notify the kernel that we're ready.\n",
              "        channel.send({})\n",
              "        if (message.buffers) {\n",
              "          for (const buffer of message.buffers) {\n",
              "            buffers.push(buffer);\n",
              "            downloaded += buffer.byteLength;\n",
              "            progress.value = downloaded;\n",
              "          }\n",
              "        }\n",
              "      }\n",
              "      const blob = new Blob(buffers, {type: 'application/binary'});\n",
              "      const a = document.createElement('a');\n",
              "      a.href = window.URL.createObjectURL(blob);\n",
              "      a.download = filename;\n",
              "      div.appendChild(a);\n",
              "      a.click();\n",
              "      div.remove();\n",
              "    }\n",
              "  "
            ]
          },
          "metadata": {}
        },
        {
          "output_type": "display_data",
          "data": {
            "text/plain": [
              "<IPython.core.display.Javascript object>"
            ],
            "application/javascript": [
              "download(\"download_8c0f8bc6-467d-4b2d-8825-2103ab3a24b9\", \"modelo_imdb.pkl\", 6535857)"
            ]
          },
          "metadata": {}
        },
        {
          "output_type": "display_data",
          "data": {
            "text/plain": [
              "<IPython.core.display.Javascript object>"
            ],
            "application/javascript": [
              "\n",
              "    async function download(id, filename, size) {\n",
              "      if (!google.colab.kernel.accessAllowed) {\n",
              "        return;\n",
              "      }\n",
              "      const div = document.createElement('div');\n",
              "      const label = document.createElement('label');\n",
              "      label.textContent = `Downloading \"${filename}\": `;\n",
              "      div.appendChild(label);\n",
              "      const progress = document.createElement('progress');\n",
              "      progress.max = size;\n",
              "      div.appendChild(progress);\n",
              "      document.body.appendChild(div);\n",
              "\n",
              "      const buffers = [];\n",
              "      let downloaded = 0;\n",
              "\n",
              "      const channel = await google.colab.kernel.comms.open(id);\n",
              "      // Send a message to notify the kernel that we're ready.\n",
              "      channel.send({})\n",
              "\n",
              "      for await (const message of channel.messages) {\n",
              "        // Send a message to notify the kernel that we're ready.\n",
              "        channel.send({})\n",
              "        if (message.buffers) {\n",
              "          for (const buffer of message.buffers) {\n",
              "            buffers.push(buffer);\n",
              "            downloaded += buffer.byteLength;\n",
              "            progress.value = downloaded;\n",
              "          }\n",
              "        }\n",
              "      }\n",
              "      const blob = new Blob(buffers, {type: 'application/binary'});\n",
              "      const a = document.createElement('a');\n",
              "      a.href = window.URL.createObjectURL(blob);\n",
              "      a.download = filename;\n",
              "      div.appendChild(a);\n",
              "      a.click();\n",
              "      div.remove();\n",
              "    }\n",
              "  "
            ]
          },
          "metadata": {}
        },
        {
          "output_type": "display_data",
          "data": {
            "text/plain": [
              "<IPython.core.display.Javascript object>"
            ],
            "application/javascript": [
              "download(\"download_fdd598d5-6419-465f-9173-f995157aa368\", \"encoder_genero.pkl\", 5679)"
            ]
          },
          "metadata": {}
        }
      ]
    }
  ]
}